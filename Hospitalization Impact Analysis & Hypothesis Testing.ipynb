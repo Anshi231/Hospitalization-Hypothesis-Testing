{
 "cells": [
  {
   "cell_type": "markdown",
   "id": "d06cdfe3-db84-447d-b8d5-eb3d6d8130af",
   "metadata": {},
   "source": [
    "#### Importing the Dataset"
   ]
  },
  {
   "cell_type": "code",
   "execution_count": 51,
   "id": "d85eec3b-c983-4613-b818-983d6b332c20",
   "metadata": {},
   "outputs": [],
   "source": [
    "import pandas as pd\n",
    "import numpy as np\n",
    "import matplotlib.pyplot as plt\n",
    "import seaborn as sns\n",
    "from scipy import stats\n",
    "from scipy.stats import f_oneway, ttest_ind\n",
    "from scipy.stats import f_oneway, chi2_contingency\n",
    "from sklearn.linear_model import LinearRegression\n",
    "from sklearn.model_selection import train_test_split\n",
    "from sklearn.metrics import mean_squared_error, r2_score"
   ]
  },
  {
   "cell_type": "markdown",
   "id": "07332dc9-e947-4599-b73e-a726d189dbd9",
   "metadata": {},
   "source": [
    "#### Reading the Dataset"
   ]
  },
  {
   "cell_type": "code",
   "execution_count": 57,
   "id": "17e31aad-a93a-42bc-bda8-c90209904797",
   "metadata": {},
   "outputs": [],
   "source": [
    "df = pd.read_csv('Dataset.csv')"
   ]
  },
  {
   "cell_type": "markdown",
   "id": "19bd7c6f-e792-406e-addc-603490c7bdfd",
   "metadata": {},
   "source": [
    "#### Displaying the first 5 Records"
   ]
  },
  {
   "cell_type": "code",
   "execution_count": 14,
   "id": "ef9a8e90-cc56-4f6f-ae2d-6fb383a24c07",
   "metadata": {},
   "outputs": [
    {
     "data": {
      "text/html": [
       "<div>\n",
       "<style scoped>\n",
       "    .dataframe tbody tr th:only-of-type {\n",
       "        vertical-align: middle;\n",
       "    }\n",
       "\n",
       "    .dataframe tbody tr th {\n",
       "        vertical-align: top;\n",
       "    }\n",
       "\n",
       "    .dataframe thead th {\n",
       "        text-align: right;\n",
       "    }\n",
       "</style>\n",
       "<table border=\"1\" class=\"dataframe\">\n",
       "  <thead>\n",
       "    <tr style=\"text-align: right;\">\n",
       "      <th></th>\n",
       "      <th>Unnamed: 0</th>\n",
       "      <th>age</th>\n",
       "      <th>sex</th>\n",
       "      <th>smoker</th>\n",
       "      <th>region</th>\n",
       "      <th>viral load</th>\n",
       "      <th>severity level</th>\n",
       "      <th>hospitalization charges</th>\n",
       "    </tr>\n",
       "  </thead>\n",
       "  <tbody>\n",
       "    <tr>\n",
       "      <th>0</th>\n",
       "      <td>0</td>\n",
       "      <td>19</td>\n",
       "      <td>female</td>\n",
       "      <td>yes</td>\n",
       "      <td>southwest</td>\n",
       "      <td>9.30</td>\n",
       "      <td>0</td>\n",
       "      <td>42212</td>\n",
       "    </tr>\n",
       "    <tr>\n",
       "      <th>1</th>\n",
       "      <td>1</td>\n",
       "      <td>18</td>\n",
       "      <td>male</td>\n",
       "      <td>no</td>\n",
       "      <td>southeast</td>\n",
       "      <td>11.26</td>\n",
       "      <td>1</td>\n",
       "      <td>4314</td>\n",
       "    </tr>\n",
       "    <tr>\n",
       "      <th>2</th>\n",
       "      <td>2</td>\n",
       "      <td>28</td>\n",
       "      <td>male</td>\n",
       "      <td>no</td>\n",
       "      <td>southeast</td>\n",
       "      <td>11.00</td>\n",
       "      <td>3</td>\n",
       "      <td>11124</td>\n",
       "    </tr>\n",
       "    <tr>\n",
       "      <th>3</th>\n",
       "      <td>3</td>\n",
       "      <td>33</td>\n",
       "      <td>male</td>\n",
       "      <td>no</td>\n",
       "      <td>northwest</td>\n",
       "      <td>7.57</td>\n",
       "      <td>0</td>\n",
       "      <td>54961</td>\n",
       "    </tr>\n",
       "    <tr>\n",
       "      <th>4</th>\n",
       "      <td>4</td>\n",
       "      <td>32</td>\n",
       "      <td>male</td>\n",
       "      <td>no</td>\n",
       "      <td>northwest</td>\n",
       "      <td>9.63</td>\n",
       "      <td>0</td>\n",
       "      <td>9667</td>\n",
       "    </tr>\n",
       "  </tbody>\n",
       "</table>\n",
       "</div>"
      ],
      "text/plain": [
       "   Unnamed: 0  age     sex smoker     region  viral load  severity level  \\\n",
       "0           0   19  female    yes  southwest        9.30               0   \n",
       "1           1   18    male     no  southeast       11.26               1   \n",
       "2           2   28    male     no  southeast       11.00               3   \n",
       "3           3   33    male     no  northwest        7.57               0   \n",
       "4           4   32    male     no  northwest        9.63               0   \n",
       "\n",
       "   hospitalization charges  \n",
       "0                    42212  \n",
       "1                     4314  \n",
       "2                    11124  \n",
       "3                    54961  \n",
       "4                     9667  "
      ]
     },
     "execution_count": 14,
     "metadata": {},
     "output_type": "execute_result"
    }
   ],
   "source": [
    "df.head()"
   ]
  },
  {
   "cell_type": "markdown",
   "id": "b834f722-3bae-4035-be07-49e27df4c153",
   "metadata": {},
   "source": [
    "#### Drop the unnecessary index column"
   ]
  },
  {
   "cell_type": "code",
   "execution_count": 58,
   "id": "01e49ac2-8b7b-4bb7-9331-4243ba30f3e3",
   "metadata": {},
   "outputs": [],
   "source": [
    "df = df.drop(columns=['Unnamed: 0'])"
   ]
  },
  {
   "cell_type": "markdown",
   "id": "7287d5de-91ab-4886-956f-752f8f14326a",
   "metadata": {},
   "source": [
    "#### Reading the dataset after dropping the unncessary index column"
   ]
  },
  {
   "cell_type": "code",
   "execution_count": 46,
   "id": "e14f2df0-29d2-4afa-8052-8bcdfe24609b",
   "metadata": {},
   "outputs": [
    {
     "data": {
      "text/html": [
       "<div>\n",
       "<style scoped>\n",
       "    .dataframe tbody tr th:only-of-type {\n",
       "        vertical-align: middle;\n",
       "    }\n",
       "\n",
       "    .dataframe tbody tr th {\n",
       "        vertical-align: top;\n",
       "    }\n",
       "\n",
       "    .dataframe thead th {\n",
       "        text-align: right;\n",
       "    }\n",
       "</style>\n",
       "<table border=\"1\" class=\"dataframe\">\n",
       "  <thead>\n",
       "    <tr style=\"text-align: right;\">\n",
       "      <th></th>\n",
       "      <th>age</th>\n",
       "      <th>sex</th>\n",
       "      <th>smoker</th>\n",
       "      <th>region</th>\n",
       "      <th>viral load</th>\n",
       "      <th>severity level</th>\n",
       "      <th>hospitalization charges</th>\n",
       "    </tr>\n",
       "  </thead>\n",
       "  <tbody>\n",
       "    <tr>\n",
       "      <th>0</th>\n",
       "      <td>19</td>\n",
       "      <td>female</td>\n",
       "      <td>yes</td>\n",
       "      <td>southwest</td>\n",
       "      <td>9.30</td>\n",
       "      <td>0</td>\n",
       "      <td>42212</td>\n",
       "    </tr>\n",
       "    <tr>\n",
       "      <th>1</th>\n",
       "      <td>18</td>\n",
       "      <td>male</td>\n",
       "      <td>no</td>\n",
       "      <td>southeast</td>\n",
       "      <td>11.26</td>\n",
       "      <td>1</td>\n",
       "      <td>4314</td>\n",
       "    </tr>\n",
       "    <tr>\n",
       "      <th>2</th>\n",
       "      <td>28</td>\n",
       "      <td>male</td>\n",
       "      <td>no</td>\n",
       "      <td>southeast</td>\n",
       "      <td>11.00</td>\n",
       "      <td>3</td>\n",
       "      <td>11124</td>\n",
       "    </tr>\n",
       "    <tr>\n",
       "      <th>3</th>\n",
       "      <td>33</td>\n",
       "      <td>male</td>\n",
       "      <td>no</td>\n",
       "      <td>northwest</td>\n",
       "      <td>7.57</td>\n",
       "      <td>0</td>\n",
       "      <td>54961</td>\n",
       "    </tr>\n",
       "    <tr>\n",
       "      <th>4</th>\n",
       "      <td>32</td>\n",
       "      <td>male</td>\n",
       "      <td>no</td>\n",
       "      <td>northwest</td>\n",
       "      <td>9.63</td>\n",
       "      <td>0</td>\n",
       "      <td>9667</td>\n",
       "    </tr>\n",
       "  </tbody>\n",
       "</table>\n",
       "</div>"
      ],
      "text/plain": [
       "   age     sex smoker     region  viral load  severity level  \\\n",
       "0   19  female    yes  southwest        9.30               0   \n",
       "1   18    male     no  southeast       11.26               1   \n",
       "2   28    male     no  southeast       11.00               3   \n",
       "3   33    male     no  northwest        7.57               0   \n",
       "4   32    male     no  northwest        9.63               0   \n",
       "\n",
       "   hospitalization charges  \n",
       "0                    42212  \n",
       "1                     4314  \n",
       "2                    11124  \n",
       "3                    54961  \n",
       "4                     9667  "
      ]
     },
     "execution_count": 46,
     "metadata": {},
     "output_type": "execute_result"
    }
   ],
   "source": [
    "df.head()"
   ]
  },
  {
   "cell_type": "markdown",
   "id": "fe3531fa-2ca4-4d17-b253-e77b825d0370",
   "metadata": {},
   "source": [
    "#### Check for Missing Values"
   ]
  },
  {
   "cell_type": "code",
   "execution_count": 60,
   "id": "015324dd-0ef4-48c6-b627-141182b3170c",
   "metadata": {},
   "outputs": [
    {
     "name": "stdout",
     "output_type": "stream",
     "text": [
      "age                        0\n",
      "sex                        0\n",
      "smoker                     0\n",
      "region                     0\n",
      "viral load                 0\n",
      "severity level             0\n",
      "hospitalization charges    0\n",
      "dtype: int64\n"
     ]
    }
   ],
   "source": [
    "missing_values = df.isnull().sum()\n",
    "print(missing_values)"
   ]
  },
  {
   "cell_type": "markdown",
   "id": "cee850b7-4da4-4322-a715-08e5cf1f8a11",
   "metadata": {},
   "source": [
    "#### Visualize age distribution"
   ]
  },
  {
   "cell_type": "code",
   "execution_count": 61,
   "id": "a428ea17-d8a4-425a-9e92-192da7d35f31",
   "metadata": {},
   "outputs": [
    {
     "data": {
      "image/png": "[encoded data removed]",
      "text/plain": [
       "<Figure size 720x360 with 1 Axes>"
      ]
     },
     "metadata": {
      "needs_background": "light"
     },
     "output_type": "display_data"
    }
   ],
   "source": [
    "plt.figure(figsize=(10,5))\n",
    "sns.histplot(df['age'], kde=True, bins=20, color='skyblue')\n",
    "plt.title(\"Age distribution of Patients\")\n",
    "plt.xlabel(\"Age\")\n",
    "plt.ylabel(\"Frequency\")\n",
    "plt.show()"
   ]
  },
  {
   "cell_type": "markdown",
   "id": "4812117d-3463-4fe8-aadc-225b0aa21b3c",
   "metadata": {},
   "source": [
    "The age distribution of cases on plot shows a kind-of uniform pattern in younger and middle-age groups but there are more with ages between 20–40. This distribution demonstrates that most patients are between early adulthood and middle-aged, while there is a smaller number of older patients. The kde curve which stands for kernel density estimate gives a quasi-smooth line on the age distribution, clearly marking its maxima at mid-20s to 30 stems from this being most repeated in hospital cases. This trend could reflect the demographics served by the hospital or age-specific health issues. Understanding the age distribution helps in planning resources, as the hospital may need to prioritize health services and preventive measures tailored to this dominant age group."
   ]
  },
  {
   "cell_type": "markdown",
   "id": "1a174f80-46e8-46ec-8b8d-a5cb0de8bfc4",
   "metadata": {},
   "source": [
    "#### Visualize hospitalization charges distribution"
   ]
  },
  {
   "cell_type": "code",
   "execution_count": 26,
   "id": "e6988006-197a-42b3-a709-b32098af95ef",
   "metadata": {},
   "outputs": [
    {
     "data": {
      "image/png": "[encoded data removed]",
      "text/plain": [
       "<Figure size 720x360 with 1 Axes>"
      ]
     },
     "metadata": {
      "needs_background": "light"
     },
     "output_type": "display_data"
    }
   ],
   "source": [
    "plt.figure(figsize=(10,5))\n",
    "sns.histplot(df['hospitalization charges'], kde=True, bins=20, color='Salmon')\n",
    "plt.title(\"Hospitalization Charges Distribution\")\n",
    "plt.xlabel(\"Hospitalization Charges\")\n",
    "plt.ylabel(\"Frequency\")\n",
    "plt.show() "
   ]
  },
  {
   "cell_type": "markdown",
   "id": "c6cb96e3-11d3-481a-8455-3f0aa9267234",
   "metadata": {},
   "source": [
    "This skew means that while the majority of patients have quite reasonable hospitalization costs, a small group has huge ones. This is best captured in the kde (Kernel Density Estimate) curve, which shows a large number of people with low charges and trending downward as you move up into higher cost charges. The high-cost outliers are cases with costs that exceed a certain threshold because of either an unusually severe medical condition or due to considerable complexity and being rather expensive in the provision. The insight highlights the difference in hospitalization costs and suggests that there is a group of patients with more stirring medical needs, which leads to an increased national spending. Hospitals could potentially optimize savings by drilling down into these high-cost cases."
   ]
  },
  {
   "cell_type": "markdown",
   "id": "a8870845-24db-4ce1-ace4-8952d3cbe9da",
   "metadata": {},
   "source": [
    "#### Boxplot of hospitalization charges by region"
   ]
  },
  {
   "cell_type": "code",
   "execution_count": 62,
   "id": "3f594516-2951-4088-8830-beedd965d46f",
   "metadata": {},
   "outputs": [
    {
     "data": {
      "image/png": "[encoded data removed]",
      "text/plain": [
       "<Figure size 864x432 with 1 Axes>"
      ]
     },
     "metadata": {
      "needs_background": "light"
     },
     "output_type": "display_data"
    }
   ],
   "source": [
    "plt.figure(figsize=(12, 6))\n",
    "sns.boxplot(x='region', y='hospitalization charges', data=df, color=\"skyblue\")\n",
    "plt.title(\"Hospitalization Charges by Region\")\n",
    "plt.xlabel(\"Region\")\n",
    "plt.ylabel(\"Hospitalization Charges\")\n",
    "plt.show()"
   ]
  },
  {
   "cell_type": "markdown",
   "id": "f31629ce-2a6a-461e-b235-cf10945ba091",
   "metadata": {},
   "source": [
    "Region wise Boxplot of Hospitalization charges can highlight the variation in medical costing by region. Medians of charges differ across regions, specifically some have higher or lower central values meaning hospitalization costs largely depending on the geographic location. Moreover, the median and interquartile range (IQR) differ by region which indicates a greater variation in hospitalization charges within some areas of patient severity or disease complexity. Most areas have outliers, particularly at the top of the scale: people with medical expenses that are extraordinarily high (probably due to unusual diseases or needs for specialized care). Collectively, this variability indicates region-specific forces shaping hospitalisation costs and as considering hospitals it's essential for them to design the healthcare practices more appropriately together with resource deployment of every sector."
   ]
  },
  {
   "cell_type": "markdown",
   "id": "6ca071f5-a81e-457f-914d-89f1b0d519e5",
   "metadata": {},
   "source": [
    "#### Boxplot of hospitalization charges by severity level"
   ]
  },
  {
   "cell_type": "code",
   "execution_count": 35,
   "id": "f8cc4fba-c83c-44f8-b03d-a15e5abd2109",
   "metadata": {},
   "outputs": [
    {
     "data": {
      "image/png": "[encoded data removed]",
      "text/plain": [
       "<Figure size 720x432 with 1 Axes>"
      ]
     },
     "metadata": {
      "needs_background": "light"
     },
     "output_type": "display_data"
    }
   ],
   "source": [
    "plt.figure(figsize=(10, 6))\n",
    "sns.boxplot(x='severity level', y='hospitalization charges', data=df, color=\"skyblue\")\n",
    "plt.title(\"Hospitalization Charges by Severity Level\")\n",
    "plt.xlabel(\"Severity Level\")\n",
    "plt.ylabel(\"Hospitalization Charges\")\n",
    "plt.show()"
   ]
  },
  {
   "cell_type": "markdown",
   "id": "1b2fdbe4-8dea-401b-88c9-5f914a4192de",
   "metadata": {},
   "source": [
    "This boxplot of hospitalization charges by severity level has a clear trend that the higher the degree of severity, medical costs tend to increase. As the severity level increase, median charge also goes up, which indicates a significant difference in charges of patients with higher severities. Moreover, the spreads in between each severity category quantified by ways of interquartile ranges (IQR) imply that charges vary more dramatically with increasing severity levels—indicating differing complexities and resource utilizations for severe cases. Outliers are less frequent in the higher severity levels, suggesting that a small proportion of severe cases need very high costs for treatment. The severity is clearly a major driver of healthcare costs and acutal illness, underscoring the importance of severity as a key driver of healthcare expenses. The hospitals can leverage this insight to allocate resources more effectively and prepare for costlier interventions for higher-severity cases."
   ]
  },
  {
   "cell_type": "code",
   "execution_count": 37,
   "id": "a4929905-42b4-4604-b087-4cee5ee8b171",
   "metadata": {},
   "outputs": [
    {
     "data": {
      "image/png": "[encoded data removed]",
      "text/plain": [
       "<Figure size 576x360 with 1 Axes>"
      ]
     },
     "metadata": {
      "needs_background": "light"
     },
     "output_type": "display_data"
    }
   ],
   "source": [
    "# Analyze the relationship between smoker status and hospitalization charges with a boxplot\n",
    "plt.figure(figsize=(8, 5))\n",
    "sns.boxplot(x='smoker', y='hospitalization charges', data=df, color='skyblue')\n",
    "plt.title(\"Hospitalization Charges by Smoking Status\")\n",
    "plt.xlabel(\"Smoker\")\n",
    "plt.ylabel(\"Hospitalization Charges\")\n",
    "plt.show()"
   ]
  },
  {
   "cell_type": "markdown",
   "id": "bce45f49-e45b-4617-b834-f55296479ad3",
   "metadata": {},
   "source": [
    "The boxplot of hospitalization charges with smoking status shows that smokers had higher median hospitalizations than the non-smoker group. Smokers also have a seemingly wider interquartile range (IQR) for costs, indicative of greater dispersion in the cost across smokers which may correspond to more varied health complications related to smoking. Moreover, it can also be inferred that there are some outlying cases with abnormally high charges in smokers which might suggest extreme one or more severe diseases developed due to smoking. This pattern highlights smoking as a variable associated with higher hospitalization costs, indicating that hospitals could have to deal more expensive healthcare treatments for smokers. To identify high-cost smokers this finding can help tailor health interventions to better manage the smoking related disease burden thus leading in cost reduction for total amount spent."
   ]
  },
  {
   "cell_type": "code",
   "execution_count": 38,
   "id": "29d3a453-6ffd-4058-b5c6-ad0860e4bec4",
   "metadata": {},
   "outputs": [
    {
     "name": "stdout",
     "output_type": "stream",
     "text": [
      "T-statistic: 46.66489219013773\n",
      "P-value: 8.275692527491989e-283\n"
     ]
    }
   ],
   "source": [
    "# Conduct a t-test for smoking status to see if it's significant in predicting hospitalization charges\n",
    "smoker_charges = df[df['smoker'] == 'yes']['hospitalization charges']\n",
    "non_smoker_charges = df[df['smoker'] == 'no']['hospitalization charges']\n",
    "t_stat, p_val = stats.ttest_ind(smoker_charges, non_smoker_charges)\n",
    "print(\"T-statistic:\", t_stat)\n",
    "print(\"P-value:\", p_val)"
   ]
  },
  {
   "cell_type": "markdown",
   "id": "0b0b4c13-ac96-47ae-b020-a30b0bd822b8",
   "metadata": {},
   "source": [
    "The t-test results show an exceptionally high t-statistic (46.66) and an extremely low p-value (8.28e-283), far below any conventional significance level (e.g., 0.05). This indicates a statistically significant difference in hospitalization charges between smokers and non-smokers. The high t-statistic suggests a strong effect, with smokers incurring noticeably higher hospitalization charges compared to non-smokers. This supports the hypothesis that smoking is a major factor driving up medical costs, likely due to smoking-related health complications that require more intensive and costly care. These findings provide robust evidence that smoking status is a critical predictor of increased healthcare expenses, highlighting the importance of targeted healthcare strategies for managing smoking-related health risks to potentially reduce these high costs."
   ]
  },
  {
   "cell_type": "code",
   "execution_count": 40,
   "id": "a5217331-c750-4057-a89c-f41efc70912a",
   "metadata": {},
   "outputs": [],
   "source": [
    "# Calculate correlations between numerical variables and hospitalization charges\n",
    "correlations = df[['age', 'viral load', 'severity level', 'hospitalization charges']].corr()"
   ]
  },
  {
   "cell_type": "code",
   "execution_count": 41,
   "id": "b21641cf-510e-4939-9330-0ec400de2d08",
   "metadata": {},
   "outputs": [
    {
     "data": {
      "image/png": "[encoded data removed]",
      "text/plain": [
       "<Figure size 576x432 with 2 Axes>"
      ]
     },
     "metadata": {
      "needs_background": "light"
     },
     "output_type": "display_data"
    }
   ],
   "source": [
    "# Display correlation heatmap\n",
    "plt.figure(figsize=(8, 6))\n",
    "sns.heatmap(correlations, annot=True, cmap=\"coolwarm\", fmt=\".2f\")\n",
    "plt.title(\"Correlation Matrix for Numerical Variables\")\n",
    "plt.show()"
   ]
  },
  {
   "cell_type": "code",
   "execution_count": 43,
   "id": "481921f8-90df-4e66-b6f7-dbdfca0d3c20",
   "metadata": {},
   "outputs": [
    {
     "name": "stdout",
     "output_type": "stream",
     "text": [
      "Mean Squared Error: 819978824.2609392\n",
      "R-squared: 0.15492643836656095\n",
      "Coefficients: [ 551.87771873 2491.86153984 1407.71177832]\n",
      "Intercept: -15298.580526311729\n"
     ]
    }
   ],
   "source": [
    "# Define predictors and response for regression (no need to add a constant term with sklearn's LinearRegression)\n",
    "X = df[['age', 'viral load', 'severity level']]\n",
    "y = df['hospitalization charges']\n",
    "\n",
    "# Split the data into training and testing sets\n",
    "X_train, X_test, y_train, y_test = train_test_split(X, y, test_size=0.2, random_state=42)\n",
    "\n",
    "# Initialize and fit the linear regression model\n",
    "reg = LinearRegression()\n",
    "reg.fit(X_train, y_train)\n",
    "\n",
    "# Predict and evaluate\n",
    "y_pred = reg.predict(X_test)\n",
    "mse = mean_squared_error(y_test, y_pred)\n",
    "r2 = r2_score(y_test, y_pred)\n",
    "\n",
    "# Display results\n",
    "print(\"Mean Squared Error:\", mse)\n",
    "print(\"R-squared:\", r2)\n",
    "print(\"Coefficients:\", reg.coef_)\n",
    "print(\"Intercept:\", reg.intercept_)"
   ]
  },
  {
   "cell_type": "markdown",
   "id": "ed63d7b3-f6af-426f-921f-d43a6d147e29",
   "metadata": {},
   "source": [
    "#### Mean Squared Error\n",
    "The high MSE suggests that the model’s predictions deviate considerably from the actual hospitalization charges, indicating room for model improvement or the need for additional features to improve predictive accuracy.\n",
    "\n",
    "#### R-Squared Error\n",
    "This low R² suggests that other variables not included in the model could also significantly influence hospitalization charges.\n",
    "\n",
    "#### Coefficients\n",
    "Each coefficient represents the estimated change in hospitalization charges for a one-unit increase in the predictor variable, holding other variables constant. \n",
    "\n",
    "- Age Coefficient (551.88)\n",
    "  \n",
    "This positive relationship suggests that older patients tend to incur higher hospitalization costs, possibly due to increased care needs or comorbidities.\n",
    "\n",
    "- Viral Load Coefficient (2491.86)\n",
    "  \n",
    "This strong positive association implies that higher viral loads are correlated with higher medical costs, likely due to more intensive treatments required for severe infections.\n",
    "\n",
    "- Severity Level Coefficient (1407.71)\n",
    "\n",
    "Severity has a positive impact on charges, indicating that patients with more severe cases generally face higher hospitalization costs, potentially due to more complex and costly treatments.\n",
    "\n",
    "#### Intercept: -15,298.58\n",
    "The intercept represents the estimated hospitalization charges when all predictors are zero. Although negative, it holds little real-world meaning in this context because having zero values for age, viral load, or severity level is unlikely. It primarily shifts the regression line and isn’t a critical component for interpretation here."
   ]
  },
  {
   "cell_type": "markdown",
   "id": "8cf9a29e-d2d1-4de8-a390-a0d3ce6d77b1",
   "metadata": {},
   "source": [
    "### Question-1"
   ]
  },
  {
   "cell_type": "markdown",
   "id": "4a3ea865-7068-4429-b2eb-e8a80b59d097",
   "metadata": {},
   "source": [
    "#### Which variables are significant in predicting the reason for hospitalization for different regions;\n",
    "\n",
    "We'll examine how age, sex, smoker status, viral load, and severity level vary by region to identify any significant differences. We can use ANOVA tests and chi-square tests to see which variables differ significantly across regions."
   ]
  },
  {
   "cell_type": "code",
   "execution_count": 55,
   "id": "1e1e6605-f4fe-47aa-af56-8ccfa347060d",
   "metadata": {},
   "outputs": [
    {
     "name": "stdout",
     "output_type": "stream",
     "text": [
      "ANOVA Results:\n",
      "Age across regions: F_onewayResult(statistic=0.07978158162436333, pvalue=0.970989069987742)\n",
      "Viral load across regions: F_onewayResult(statistic=39.46870879747587, pvalue=1.9508165724449588e-24)\n",
      "Severity level across regions: F_onewayResult(statistic=0.7174932934640621, pvalue=0.5415542568832501)\n",
      "\n",
      "Chi-square Results:\n",
      "Sex across regions: Chi2 = 0.43513679354327284 , p-value = 0.9328921288772233\n",
      "Smoker status across regions: Chi2 = 7.34347776140707 , p-value = 0.06171954839170547\n"
     ]
    }
   ],
   "source": [
    "# Analyze variables across regions to find significant predictors for hospitalization reasons\n",
    "# ANOVA for numerical variables across regions (age, viral load, severity level)\n",
    "anova_age = f_oneway(df[df['region'] == 'northeast']['age'],\n",
    "                     df[df['region'] == 'southeast']['age'],\n",
    "                     df[df['region'] == 'southwest']['age'],\n",
    "                     df[df['region'] == 'northwest']['age'])\n",
    "\n",
    "anova_viral_load = f_oneway(df[df['region'] == 'northeast']['viral load'],\n",
    "                            df[df['region'] == 'southeast']['viral load'],\n",
    "                            df[df['region'] == 'southwest']['viral load'],\n",
    "                            df[df['region'] == 'northwest']['viral load'])\n",
    "\n",
    "anova_severity = f_oneway(df[df['region'] == 'northeast']['severity level'],\n",
    "                          df[df['region'] == 'southeast']['severity level'],\n",
    "                          df[df['region'] == 'southwest']['severity level'],\n",
    "                          df[df['region'] == 'northwest']['severity level'])\n",
    "\n",
    "# Chi-square test for categorical variables (sex, smoker) across regions\n",
    "contingency_sex = pd.crosstab(df['sex'], df['region'])\n",
    "chi2_sex, p_sex, _, _ = chi2_contingency(contingency_sex)\n",
    "\n",
    "contingency_smoker = pd.crosstab(df['smoker'], df['region'])\n",
    "chi2_smoker, p_smoker, _, _ = chi2_contingency(contingency_smoker)\n",
    "\n",
    "# Display ANOVA results and Chi-square results for regional analysis\n",
    "print(\"ANOVA Results:\")\n",
    "print(\"Age across regions:\", anova_age)\n",
    "print(\"Viral load across regions:\", anova_viral_load)\n",
    "print(\"Severity level across regions:\", anova_severity)\n",
    "\n",
    "print(\"\\nChi-square Results:\")\n",
    "print(\"Sex across regions: Chi2 =\", chi2_sex, \", p-value =\", p_sex)\n",
    "print(\"Smoker status across regions: Chi2 =\", chi2_smoker, \", p-value =\", p_smoker)"
   ]
  },
  {
   "cell_type": "markdown",
   "id": "c0e6f3ff-afa7-4a4d-aaa1-1f89003dcfcb",
   "metadata": {},
   "source": [
    "The ANOVA table and Chi-square tests show details of how variables were varied across the regions, where it may influence reasons for hospitalization. The ANOVA results show that the region is not significantly different of age (p =0.97) and severity level(p= 0.54), which are p-value greater than typically used threshold of significance(0.05). However, the viral load distribution is significantly different by region (p < 0.001), meaning that on average regions completely differ in terms of mean Viral load. The reason for hospitalization may be influenced by other factors such as regional inequality in infection or health status."
   ]
  },
  {
   "cell_type": "markdown",
   "id": "17d9dac1-a8aa-4e8e-ae57-f5d948d706ad",
   "metadata": {},
   "source": [
    "The Chi-square tests for categorical variables show that sex distribution is not significantly different across regions (p = 0.93), meaning that the gender ratio is relatively consistent across all areas. The smoker status test approaches significance (p = 0.06), suggesting a marginal regional difference in smoking prevalence. Regions with a higher proportion of smokers might be experiencing more respiratory-related hospitalizations."
   ]
  },
  {
   "cell_type": "markdown",
   "id": "a1a1664a-bd78-4dff-af4c-6655d8be69a3",
   "metadata": {},
   "source": [
    "### Question-2"
   ]
  },
  {
   "cell_type": "markdown",
   "id": "41bb52ad-8169-4c9a-9d69-24bda43117d3",
   "metadata": {},
   "source": [
    "#### Determine How Well Variables Describe Hospitalization Charges:\n",
    "\n",
    "We’ll perform a multiple linear regression using viral load, smoking, and severity level as predictors for hospitalization charges. This will help us understand each variable's contribution to hospitalization costs."
   ]
  },
  {
   "cell_type": "code",
   "execution_count": 56,
   "id": "b3199caa-0ba5-4257-8c49-9469d7054129",
   "metadata": {},
   "outputs": [
    {
     "name": "stdout",
     "output_type": "stream",
     "text": [
      "\n",
      "Multiple Regression Results:\n",
      "Mean Squared Error: 297022745.726812\n",
      "R-squared: 0.6938871319710769\n",
      "Coefficients: [ 2989.03394182 57959.32918312  1531.82252562]\n",
      "Intercept: -10697.331132081774\n"
     ]
    }
   ],
   "source": [
    "# Multiple regression analysis to determine impact of viral load, smoking, and severity level on hospitalization charges\n",
    "# Encode smoker status as binary for regression analysis\n",
    "df['smoker_binary'] = np.where(df['smoker'] == 'yes', 1, 0)\n",
    "\n",
    "# Define predictors and response for regression\n",
    "X = df[['viral load', 'smoker_binary', 'severity level']]\n",
    "y = df['hospitalization charges']\n",
    "\n",
    "# Split the data into training and testing sets\n",
    "X_train, X_test, y_train, y_test = train_test_split(X, y, test_size=0.2, random_state=42)\n",
    "\n",
    "# Initialize and fit the linear regression model\n",
    "reg = LinearRegression()\n",
    "reg.fit(X_train, y_train)\n",
    "\n",
    "# Predict and evaluate\n",
    "y_pred = reg.predict(X_test)\n",
    "mse = mean_squared_error(y_test, y_pred)\n",
    "r2 = r2_score(y_test, y_pred)\n",
    "\n",
    "# Display regression results\n",
    "print(\"\\nMultiple Regression Results:\")\n",
    "print(\"Mean Squared Error:\", mse)\n",
    "print(\"R-squared:\", r2)\n",
    "print(\"Coefficients:\", reg.coef_)\n",
    "print(\"Intercept:\", reg.intercept_)"
   ]
  },
  {
   "cell_type": "markdown",
   "id": "8c7b71e7-059d-4d9d-990e-044a71e33514",
   "metadata": {},
   "source": [
    "The multiple regression analysis provides insights into how viral load, smoking status, and severity level impact hospitalization charges. The R-squared value of approximately 0.694 indicates that around 69.4% of the variance in hospitalization charges is explained by these three factors, which suggests a reasonably strong model fit. The mean squared error (MSE) of about 297 million indicates the average squared deviation between predicted and actual charges, which could still be improved with additional predictors or a more complex model."
   ]
  },
  {
   "cell_type": "markdown",
   "id": "72a97a8c-5544-4010-915c-41d0a9599c6c",
   "metadata": {},
   "source": [
    "Looking at the coefficients, smoking status has the largest impact, with a coefficient of approximately 57,959. This suggests that smokers are likely to incur significantly higher hospitalization charges than non-smokers. Viral load also shows a substantial positive effect, with each unit increase associated with a roughly 2,989 increase in charges. Finally, severity level has a positive coefficient (1,531), indicating that higher severity levels are linked to higher hospitalization charges, albeit with a smaller effect size compared to viral load and smoking status."
   ]
  },
  {
   "cell_type": "markdown",
   "id": "8429d9d0-95a4-40a9-9919-0dbfe69dadb0",
   "metadata": {},
   "source": [
    "In summary, smoking status, viral load, and severity level are all positively associated with hospitalization charges, with smoking being the most influential predictor. These findings underscore the impact of smoking and higher viral loads on healthcare costs, which could inform resource allocation and targeted interventions to manage high-cost patient groups."
   ]
  }
 ],
 "metadata": {
  "kernelspec": {
   "display_name": "Python 3 (ipykernel)",
   "language": "python",
   "name": "python3"
  },
  "language_info": {
   "codemirror_mode": {
    "name": "ipython",
    "version": 3
   },
   "file_extension": ".py",
   "mimetype": "text/x-python",
   "name": "python",
   "nbconvert_exporter": "python",
   "pygments_lexer": "ipython3",
   "version": "3.8.8"
  }
 },
 "nbformat": 4,
 "nbformat_minor": 5
}
